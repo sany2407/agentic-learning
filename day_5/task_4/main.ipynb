{
 "cells": [
  {
   "cell_type": "code",
   "execution_count": null,
   "id": "65323351",
   "metadata": {},
   "outputs": [],
   "source": [
    "pip install langchain langchain-google-genai langchain-community chromadb pypdf google-generativeai"
   ]
  },
  {
   "cell_type": "code",
   "execution_count": null,
   "id": "6f10d3f7",
   "metadata": {},
   "outputs": [],
   "source": [
    "# This script loads a PDF file and splits it into manageable chunks using LangChain's PyPDFLoader.\n",
    "from langchain.document_loaders import PyPDFLoader\n",
    "\n",
    "loader = PyPDFLoader(\"/Users/subashkannan/Desktop/agentic-learning-main/day_5/task_4/journal-entries.pdf\")  # Replace with your PDF path\n",
    "documents = loader.load_and_split()  # Split into manageable chunks\n"
   ]
  },
  {
   "cell_type": "code",
   "execution_count": null,
   "id": "0f4767f8",
   "metadata": {},
   "outputs": [],
   "source": [
    "# Set the Google API key for LangChain to use Google Generative AI embeddings\n",
    "import os\n",
    "os.environ[\"GOOGLE_API_KEY\"] = GOOGLE_API_KEY\n",
    "\n",
    "from langchain_google_genai import GoogleGenerativeAIEmbeddings\n",
    "from langchain.vectorstores import Chroma\n",
    "\n",
    "embeddings = GoogleGenerativeAIEmbeddings(model=\"models/embedding-001\")  # Gemini embedding model\n",
    "\n",
    "vectorstore = Chroma.from_documents(\n",
    "    documents=documents,\n",
    "    embedding=embeddings,\n",
    "    collection_name=\"journal_entries\"  # Persistent collection for reuse\n",
    ")\n"
   ]
  },
  {
   "cell_type": "code",
   "execution_count": null,
   "id": "328ca768",
   "metadata": {},
   "outputs": [],
   "source": [
    "# Use the Google Generative AI model for chat interactions\n",
    "from langchain_google_genai import ChatGoogleGenerativeAI\n",
    "\n",
    "llm = ChatGoogleGenerativeAI(\n",
    "    model=\"gemini-2.0-flash\",\n",
    ")\n"
   ]
  },
  {
   "cell_type": "code",
   "execution_count": null,
   "id": "53cfaccd",
   "metadata": {},
   "outputs": [],
   "source": [
    "# Define tools for the agent to analyze journal entries\n",
    "from langchain.agents import tool\n",
    "from langchain.prompts import PromptTemplate\n",
    "from langchain.chains import LLMChain\n",
    "\n",
    "#this is a tool to detect emotions in journal entries\n",
    "@tool\n",
    "def detect_emotions(text: str) -> str:\n",
    "    \"\"\"Detect emotions in a journal entry.\"\"\"\n",
    "    prompt = PromptTemplate.from_template(\"Analyze the emotions in this text: {text}. Summarize key emotions.\")\n",
    "    chain = LLMChain(llm=llm, prompt=prompt)\n",
    "    return chain.run(text)\n",
    "\n",
    "#this is a tool to find theme across journal entries\n",
    "@tool\n",
    "def find_themes(query: str) -> str:\n",
    "    \"\"\"Find recurring themes across entries.\"\"\"\n",
    "    results = vectorstore.similarity_search(query, k=5)  # Retrieve top similar entries\n",
    "    combined_text = \" \".join([doc.page_content for doc in results])\n",
    "    prompt = PromptTemplate.from_template(\"Identify recurring themes in: {text}.\")\n",
    "    chain = LLMChain(llm=llm, prompt=prompt)\n",
    "    return chain.run(text=combined_text)\n"
   ]
  },
  {
   "cell_type": "code",
   "execution_count": null,
   "id": "e0b2ea0d",
   "metadata": {},
   "outputs": [],
   "source": [
    "# Initialize the agent with the defined tools and the LLM\n",
    "from langchain.agents import initialize_agent, AgentType\n",
    "\n",
    "tools = [detect_emotions, find_themes]\n",
    "agent = initialize_agent(\n",
    "    tools=tools,\n",
    "    llm=llm,\n",
    "    agent=AgentType.ZERO_SHOT_REACT_DESCRIPTION,\n",
    "    verbose=True  # For debugging\n",
    ")\n"
   ]
  },
  {
   "cell_type": "code",
   "execution_count": null,
   "id": "620cb04b",
   "metadata": {},
   "outputs": [],
   "source": [
    "# Run the agent to analyze the journal entries\n",
    "report = agent.run(\n",
    "    \"Provide a complete analysis of the journal, including recurring themes and key emotions with patterns and shifts.\"\n",
    ")\n",
    "\n",
    "# Format and save as Markdown (from previous update)\n",
    "markdown_report = f\"\"\"\n",
    "# Complete Journal Entry Analysis Report\n",
    "\n",
    "## Summary of Journal Entries\n",
    "{report}\n",
    "\n",
    "## Key Emotions Detected\n",
    "{agent.run(\"Detect key emotions in the journal entries.\")}\n",
    "\n",
    "## Recurring Themes\n",
    "{agent.run(\"Find recurring themes across all entries.\")}\n",
    "\"\"\"\n",
    "\n",
    "with open(\"complete_journal_analysis_report.md\", \"w\") as file:\n",
    "    file.write(markdown_report)\n",
    "\n",
    "print(\"Complete report saved as complete_journal_analysis_report.md\")\n"
   ]
  }
 ],
 "metadata": {
  "kernelspec": {
   "display_name": ".venv",
   "language": "python",
   "name": "python3"
  },
  "language_info": {
   "codemirror_mode": {
    "name": "ipython",
    "version": 3
   },
   "file_extension": ".py",
   "mimetype": "text/x-python",
   "name": "python",
   "nbconvert_exporter": "python",
   "pygments_lexer": "ipython3",
   "version": "3.13.5"
  }
 },
 "nbformat": 4,
 "nbformat_minor": 5
}
