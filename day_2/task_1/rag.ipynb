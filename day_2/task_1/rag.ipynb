{
 "cells": [
  {
   "cell_type": "markdown",
   "id": "243b66cd",
   "metadata": {},
   "source": [
    "This file contains the implementation of the RAG system using Langchain"
   ]
  },
  {
   "cell_type": "code",
   "execution_count": null,
   "id": "9a5c3ab7",
   "metadata": {},
   "outputs": [],
   "source": [
    "pip install langchain langchain-community langchain-google-genai langchain-chroma python-dotenv pypdf"
   ]
  },
  {
   "cell_type": "code",
   "execution_count": null,
   "id": "b2ffce85",
   "metadata": {},
   "outputs": [],
   "source": [
    "GOOGLE_API_KEY=\"your-api-key\"  # Set your Google API key in .env file"
   ]
  },
  {
   "cell_type": "code",
   "execution_count": null,
   "id": "01ddb470",
   "metadata": {},
   "outputs": [],
   "source": [
    "from dotenv import load_dotenv\n",
    "from langchain_community.document_loaders import CSVLoader\n",
    "from langchain.text_splitter import RecursiveCharacterTextSplitter\n",
    "from langchain_community.vectorstores import Chroma\n",
    "from langchain_google_genai import GoogleGenerativeAIEmbeddings\n",
    "import os\n",
    "\n",
    "# Load environment variables\n",
    "load_dotenv()\n",
    "os.environ[\"GOOGLE_API_KEY\"] = os.getenv(\"GOOGLE_API_KEY\")  # safer than direct assignment\n",
    "\n",
    "# Path to your CSV file\n",
    "csv_dir = \"/Users/subashkannan/Desktop/agentic-learning-main/day_2/task_1/data\"\n",
    "\n",
    "# Load CSV documents\n",
    "documents = []\n",
    "for filename in os.listdir(csv_dir):\n",
    "    if filename.lower().endswith(\".csv\"):\n",
    "        file_path = os.path.join(csv_dir, filename)\n",
    "        loader = CSVLoader(file_path=file_path)\n",
    "        documents.extend(loader.load())\n",
    "\n",
    "# Split the documents into chunks\n",
    "splitter = RecursiveCharacterTextSplitter(chunk_size=500, chunk_overlap=100)\n",
    "chunks = splitter.split_documents(documents)\n",
    "\n",
    "# Initialize the embedding model\n",
    "embeddings = GoogleGenerativeAIEmbeddings(model=\"models/embedding-001\")\n",
    "\n",
    "# Check if chunks exist\n",
    "if not chunks:\n",
    "\tprint(\"⚠️ No document chunks found. Please check your CSV file.\")\n",
    "else:\n",
    "\tvectordb = Chroma.from_documents(documents=chunks, embedding=embeddings, persist_directory=\"chroma_db\")\n",
    "\tvectordb.persist()\n",
    "\tprint(\"✅ CSV Embeddings created and stored.\")\n"
   ]
  },
  {
   "cell_type": "code",
   "execution_count": null,
   "id": "0cfdbdf7",
   "metadata": {},
   "outputs": [],
   "source": [
    "import os\n",
    "from dotenv import load_dotenv\n",
    "from langchain_chroma import Chroma\n",
    "from langchain_google_genai import GoogleGenerativeAIEmbeddings, ChatGoogleGenerativeAI\n",
    "from langchain.chains import RetrievalQA\n",
    "\n",
    "load_dotenv()\n",
    "\n",
    "# Load vector DB\n",
    "vectordb = Chroma(\n",
    "    persist_directory=\"chroma_db\",\n",
    "    embedding_function=GoogleGenerativeAIEmbeddings(model=\"models/embedding-001\")\n",
    ")\n",
    "\n",
    "# Set up retriever\n",
    "retriever = vectordb.as_retriever(search_kwargs={\"k\": 3})\n",
    "\n",
    "# Load Gemini LLM\n",
    "llm = ChatGoogleGenerativeAI(model=\"gemini-2.0-flash\", temperature=0)\n",
    "\n",
    "# RAG chain\n",
    "qa_chain = RetrievalQA.from_chain_type(\n",
    "    llm=llm,\n",
    "    retriever=retriever,\n",
    "    return_source_documents=True\n",
    ")\n",
    "\n",
    "# Ask a question\n",
    "query = \"What are the common issues reported in iPhone reviews?\"\n",
    "result = qa_chain.invoke({\"query\": query})\n",
    "\n",
    "print(\"\\n🧠 Answer:\\n\", result[\"result\"])\n",
    "print(\"\\n📚 Sources:\\n\", result[\"source_documents\"])\n"
   ]
  }
 ],
 "metadata": {
  "kernelspec": {
   "display_name": ".venv",
   "language": "python",
   "name": "python3"
  },
  "language_info": {
   "codemirror_mode": {
    "name": "ipython",
    "version": 3
   },
   "file_extension": ".py",
   "mimetype": "text/x-python",
   "name": "python",
   "nbconvert_exporter": "python",
   "pygments_lexer": "ipython3",
   "version": "3.13.5"
  }
 },
 "nbformat": 4,
 "nbformat_minor": 5
}
